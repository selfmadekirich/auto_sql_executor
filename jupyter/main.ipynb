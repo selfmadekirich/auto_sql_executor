{
 "cells": [
  {
   "cell_type": "code",
   "execution_count": 1,
   "metadata": {},
   "outputs": [],
   "source": [
    "from dotenv import load_dotenv\n",
    "import os\n",
    "\n",
    "load_dotenv('./.env', override=True)\n",
    "\n",
    "def_vars = [\n",
    "    'DATABASE_USER', 'DATABASE_PASS', \n",
    "    'DATABASE_HOST', 'DATABASE_PORT', \n",
    "    'DATABASE_NAME', 'GROQ_API_KEY'\n",
    "]\n",
    "\n",
    "def get_env_object():\n",
    "    return { x: os.environ[x] for x in def_vars }\n",
    "\n",
    "env_object = get_env_object()"
   ]
  },
  {
   "cell_type": "code",
   "execution_count": 2,
   "metadata": {},
   "outputs": [],
   "source": [
    "import yaml\n",
    "import json\n",
    "import time\n",
    "\n",
    "def read_file(fp: str) -> str:\n",
    "    with open(fp, \"r+\", encoding=\"UTF-8\") as o:\n",
    "        return o.read()\n",
    "\n",
    "\n",
    "def read_yaml(fp: str):\n",
    "    return yaml.safe_load(read_file(fp))\n",
    "\n",
    "def save_dict_as_file(fp:str, d:dict):\n",
    "    with open(fp, \"w\") as y:\n",
    "        yaml.dump(d, y)\n"
   ]
  },
  {
   "cell_type": "code",
   "execution_count": 3,
   "metadata": {},
   "outputs": [],
   "source": [
    "import psycopg2\n",
    "from psycopg2 import sql\n",
    "\n",
    "\n",
    "class DbConnectionManager:\n",
    "    def __init__(self, env_object ,init_sql_folder: str = None):\n",
    "        self.e_o = env_object\n",
    "        self.con = None\n",
    "        self.cur = None\n",
    "        \n",
    "        if init_sql_folder:\n",
    "            print(\"will create default objects\")\n",
    "            self.init_db(init_sql_folder)\n",
    "            print(\"successfully created\")\n",
    "    \n",
    "    def _call_func(self, func_name: str, params: list[str], **kwargs):\n",
    "\n",
    "        commit = kwargs.get(\"commit\") or False\n",
    "        res = kwargs.get(\"ret_result\") or False\n",
    "\n",
    "        q = sql.SQL(\"\"\"\n",
    "            select {func_name}({params_list});\n",
    "        \"\"\").format(\n",
    "            func_name=sql.Identifier(func_name),\n",
    "            params_list= sql.SQL(', ').join(\n",
    "                [sql.Literal(x) for x in params])\n",
    "        )\n",
    "\n",
    "        return self._execute_query(q, commit=commit, ret_result=res)\n",
    "    \n",
    "    def try_save_query(self, view_name:str, query: str) -> bool:\n",
    "        ret = self._call_func(\n",
    "            'f_save_query_as_view',\n",
    "            [view_name, query],\n",
    "            commit=True,\n",
    "            ret_result=True\n",
    "        )\n",
    "        return ret[0][0]\n",
    "    \n",
    "    def check_generated_query(self, corr_view: str, tested_view: str) -> dict:\n",
    "        ret = self._call_func(\n",
    "            'f_check_generated_query',\n",
    "            [corr_view, tested_view],\n",
    "            ret_result=True\n",
    "        )\n",
    "        return ret[0][0]\n",
    "    \n",
    "\n",
    "    def init_db(self, init_sql_folder: str) -> None:\n",
    "        if not os.path.exists(init_sql_folder):\n",
    "            raise Exception(\"init sql folder does not exists\")\n",
    "        \n",
    "        for f in os.listdir(init_sql_folder):\n",
    "            fp = os.path.abspath(\n",
    "                os.path.join(init_sql_folder, f)\n",
    "            )\n",
    "\n",
    "            fc = read_file(fp)\n",
    "            \n",
    "            self._execute_query(fc, commit=True)\n",
    "\n",
    "\n",
    "    def _execute_query(self, query:str, commit=False, ret_result=False):\n",
    "        cur, con = self._get_connection()\n",
    "\n",
    "        cq = query\n",
    "        if isinstance(query, sql.Composed):\n",
    "            cq = query.as_string(cur)\n",
    "\n",
    "        try:\n",
    "            cur.execute(cq)\n",
    "        except Exception as e:\n",
    "            print(e)\n",
    "            return None\n",
    "        \n",
    "        if commit:\n",
    "            con.commit()\n",
    "\n",
    "        if ret_result:\n",
    "            return cur.fetchall()\n",
    "        \n",
    "        return None\n",
    "\n",
    "    def _is_con_set(self):\n",
    "        return self.cur is not None and self.con is not None\n",
    "        \n",
    "    def _get_connection(self):\n",
    "        if self._is_con_set():\n",
    "            return (self.cur, self.con)\n",
    "        \n",
    "        con_str = self._get_con_string()\n",
    "        self.con = psycopg2.connect(con_str)\n",
    "        self.cur = self.con.cursor()\n",
    "        return (self.cur, self.con)\n",
    "    \n",
    "    def __del__(self):\n",
    "        if self._is_con_set():\n",
    "            self.cur.close()\n",
    "            self.con.close()\n",
    "        \n",
    "    \n",
    "    def _get_con_string(self):\n",
    "        return \"host='%s' dbname='%s'\\\n",
    "            user='%s' password='%s'\" % (\n",
    "                self.e_o[\"DATABASE_HOST\"],\n",
    "                self.e_o[\"DATABASE_NAME\"],\n",
    "                self.e_o[\"DATABASE_USER\"],\n",
    "                self.e_o[\"DATABASE_PASS\"]\n",
    "            )\n",
    "\n"
   ]
  },
  {
   "cell_type": "code",
   "execution_count": 4,
   "metadata": {},
   "outputs": [],
   "source": [
    "import abc\n",
    "\n",
    "class LLMProvider(metaclass=abc.ABCMeta):\n",
    "\n",
    "    @staticmethod\n",
    "    def __subclasshook__(cls, subclass):\n",
    "        return (\n",
    "                hasattr(subclass, \"generate_sql\") and \n",
    "                callable(subclass, \"generate_sql\") and \n",
    "\n",
    "                hasattr(subclass, \"get_service_name\") and \n",
    "                callable(subclass, \"get_service_name\") or\n",
    "                \n",
    "                NotImplemented\n",
    "        )\n",
    "\n",
    "    def generate_sql(self, user_query: str) -> str:\n",
    "        \"\"\" Generate sql. Prompt should be known to class \"\"\"\n",
    "        raise NotImplementedError\n",
    "    \n",
    "    def get_service_name(self) -> str:\n",
    "        \"\"\" Return service name. \n",
    "            E.g for Lamini LLM, will return lamini\n",
    "        \"\"\"\n",
    "        raise NotImplementedError"
   ]
  },
  {
   "cell_type": "code",
   "execution_count": 5,
   "metadata": {},
   "outputs": [],
   "source": [
    "class LLMResultComparator:\n",
    "    def __init__(\n",
    "            self,\n",
    "            data_folder: str,\n",
    "            db_manager: DbConnectionManager):\n",
    "        \n",
    "        self.db_manager = db_manager\n",
    "        self.df = data_folder\n",
    "        self._init_db_with_cases()\n",
    "\n",
    "    \n",
    "    def compute_accuracy(self, llm: LLMProvider):\n",
    "\n",
    "        gen_q = {}\n",
    "        tc: dict = self.tc\n",
    "        sn = llm.get_service_name()\n",
    "\n",
    "        print(\"start getting generated queries\")\n",
    "        for x in tc:\n",
    "            data: dict = tc.get(x)\n",
    "            gen_q[x] = llm.generate_sql(data.get(\"user_query\"))\n",
    "        \n",
    "        # на всякий случай\n",
    "        print(\"dump generated queries to file\")\n",
    "        fn = f\"{self.df}/{sn}.yaml\"\n",
    "        save_dict_as_file(fn, gen_q)\n",
    "\n",
    "        return self._check_results(gen_q, sn)\n",
    "    \n",
    "    def recompute_accuracy(self, fn:str, sn: str) -> dict:\n",
    "        generated_queries = read_yaml(fn)\n",
    "        return self._check_results(generated_queries, sn)\n",
    "\n",
    "    \n",
    "    def _check_results(self, generated_queries: dict, sn: str) -> dict:\n",
    "        tc :dict = self.tc\n",
    "        stats = {}\n",
    "        for x in tc:\n",
    "            vn = self._get_gen_view_name(x, sn)\n",
    "            sr = self.db_manager.try_save_query(\n",
    "                vn,\n",
    "                generated_queries.get(x)\n",
    "            )\n",
    "\n",
    "            if not sr:\n",
    "                stats[x] = {\n",
    "                    \"status\": \"failed\",\n",
    "                    \"reason\": \"query not executable\"\n",
    "                }\n",
    "                continue\n",
    "            \n",
    "            comp_res = self.db_manager.check_generated_query(\n",
    "                self._get_correct_view_name(x),\n",
    "                vn\n",
    "            )\n",
    "\n",
    "            res = self._analyze_query_comp(comp_res)\n",
    "            stats[x] = {\n",
    "                \"status\": res[\"status\"],\n",
    "                \"reason\": res[\"description\"]\n",
    "            }\n",
    "\n",
    "        return stats\n",
    "\n",
    "\n",
    "    def _analyze_query_comp(self, comp_res: dict) -> dict:\n",
    "        res = {\n",
    "            \"status\":\"\",\n",
    "            \"description\":\"\"\n",
    "        }\n",
    "\n",
    "        acm: int= comp_res.get(\"attr_count_mismatch\")\n",
    "        rcm: int = comp_res.get(\"rows_count_mismatch\")\n",
    "        chm: list[str] = comp_res.get(\"cols_hashes_mismatch\")\n",
    "\n",
    "        acm_mes: str = \"attribute count mismatch\"\n",
    "        rcm_mes: str = \"rows count mismatch\"\n",
    "        chm_mes: str = \"execution results differs\"\n",
    "\n",
    "        #if (acm == 0 and rcm == 0 and chm == []):\n",
    "        # если rcm ==0 , chm == [], а acm != 0, это означает, что \n",
    "        # модель написала запрос, который возвращает больше атрибутов, чем эталонный\n",
    "        # такие запросы мы НЕ будем считать за ошибочные\n",
    "        if (rcm == 0 and chm == []):\n",
    "            res[\"status\"] = \"success\"\n",
    "        else:\n",
    "            res[\"status\"] = \"failed\"\n",
    "            desc = []\n",
    "\n",
    "            if acm != 0:\n",
    "                desc.append(acm_mes)\n",
    "            if rcm != 0:\n",
    "                desc.append(rcm_mes)\n",
    "            if chm != []:\n",
    "                desc.append(chm_mes)\n",
    "            \n",
    "            res[\"description\"] = ';'.join(desc)\n",
    "\n",
    "        return res\n",
    "\n",
    "\n",
    "    def _get_correct_view_name(self, test_case: str) -> str:\n",
    "        return f\"v_{test_case}\"\n",
    "    \n",
    "    def _get_gen_view_name(self, test_case: str, service_name: str) -> str:\n",
    "        return f\"{service_name}_{test_case}\"\n",
    "\n",
    "    def _init_db_with_cases(self):\n",
    "        tc = read_yaml(f\"{self.df}/main.yaml\")[\"test_cases\"]\n",
    "\n",
    "        # если будет просадка по скорости не забыть добавить пред проверку\n",
    "        # на инит базы\n",
    "        for x in tc:\n",
    "            data = tc.get(x)\n",
    "            fn = self._get_correct_view_name(x)\n",
    "            res = self.db_manager.try_save_query(fn, data.get(\"correct_query\"))\n",
    "            if not res:\n",
    "                print(f\"failed to save {fn}\")\n",
    "                print(data.get(\"correct_query\"))\n",
    "        \n",
    "        self.tc = tc\n",
    "\n",
    "\n",
    "\n"
   ]
  },
  {
   "cell_type": "code",
   "execution_count": 6,
   "metadata": {},
   "outputs": [],
   "source": [
    "class DummyLLM(LLMProvider):\n",
    "    \"\"\"\n",
    "    Class only for test and concept purpose\n",
    "    \"\"\"\n",
    "\n",
    "    def __init__(self, context_manager):\n",
    "        self.pr = context_manager\n",
    "\n",
    "    def generate_sql(self, user_query: str) -> str:\n",
    "        if 'видеоигры' in user_query:\n",
    "            return 'select id from video_games.game'\n",
    "        else:\n",
    "            return 'select * from video_games.genre'\n",
    "    \n",
    "    def get_service_name(self) -> str:\n",
    "        return \"dummy\""
   ]
  },
  {
   "cell_type": "code",
   "execution_count": 7,
   "metadata": {},
   "outputs": [],
   "source": [
    "from groq import Groq\n",
    "\n",
    "client = Groq(\n",
    "    api_key=env_object.get(\"GROQ_API_KEY\"),\n",
    ")"
   ]
  },
  {
   "cell_type": "code",
   "execution_count": 8,
   "metadata": {},
   "outputs": [],
   "source": [
    "class GroqLLMProvider(LLMProvider):\n",
    "    \"\"\"\n",
    "    https://groq.com/\n",
    "    NEED VPN!!!\n",
    "    \"\"\"\n",
    "    def __init__(self, context_manager, client: Groq):\n",
    "        self.client = client\n",
    "        self.pr = context_manager\n",
    "    \n",
    "    def set_model(self, model: str, model_name: str):\n",
    "        self.model = model\n",
    "        self.model_name = model_name\n",
    "\n",
    "    def generate_sql(self, user_query: str) -> str:\n",
    "        print(\"sleep to be nice to service\")\n",
    "        time.sleep(10)\n",
    "        print(\"start proceeding requests\")\n",
    "        comp = self.client.chat.completions.create(\n",
    "            model=self.model,\n",
    "            messages=[\n",
    "                {\n",
    "                    \"role\": \"system\",\n",
    "                    \"content\": self.pr.get_context()\n",
    "                },\n",
    "                {\n",
    "                    \"role\": \"user\",\n",
    "                    \"content\": user_query\n",
    "                },\n",
    "            ],\n",
    "            temperature=1,\n",
    "            max_completion_tokens=1024,\n",
    "            top_p=1,\n",
    "            stream=False,\n",
    "            response_format={\"type\": \"json_object\"},\n",
    "            stop=None,\n",
    "        )\n",
    "\n",
    "        mes = comp.choices[0].message\n",
    "        mes = json.loads(mes.content)\n",
    "        return mes.get(*mes.keys())\n",
    "    \n",
    "    def get_service_name(self) -> str:\n",
    "        return self.model_name"
   ]
  },
  {
   "cell_type": "code",
   "execution_count": 9,
   "metadata": {},
   "outputs": [],
   "source": [
    "class DefaultContextManager:\n",
    "    def __init__(self, m_folder: str):\n",
    "        if not os.path.exists(m_folder):\n",
    "            raise Exception(\"missing file with context\")\n",
    "\n",
    "        self.context = read_file(f\"{m_folder}/default.txt\")\n",
    "    \n",
    "    def get_context(self):\n",
    "        return self.context\n"
   ]
  },
  {
   "cell_type": "code",
   "execution_count": 10,
   "metadata": {},
   "outputs": [
    {
     "name": "stdout",
     "output_type": "stream",
     "text": [
      "will create default objects\n",
      "successfully created\n"
     ]
    }
   ],
   "source": [
    "db_manager = DbConnectionManager(env_object, './init_sql')"
   ]
  },
  {
   "cell_type": "code",
   "execution_count": 11,
   "metadata": {},
   "outputs": [],
   "source": [
    "f = LLMResultComparator(\"test_data\", db_manager)"
   ]
  },
  {
   "cell_type": "code",
   "execution_count": 91,
   "metadata": {},
   "outputs": [
    {
     "name": "stdout",
     "output_type": "stream",
     "text": [
      "start getting generated queries\n",
      "dump generated queries to file\n"
     ]
    }
   ],
   "source": [
    "test_res = f.compute_accuracy(DummyLLM(DefaultContextManager(\"./contexts\")))"
   ]
  },
  {
   "cell_type": "code",
   "execution_count": 92,
   "metadata": {},
   "outputs": [
    {
     "data": {
      "text/plain": [
       "{'test_1': {'status': 'failed',\n",
       "  'reason': 'attribute count mismatch;execution results differs'},\n",
       " 'test_2': {'status': 'success', 'reason': ''}}"
      ]
     },
     "execution_count": 92,
     "metadata": {},
     "output_type": "execute_result"
    }
   ],
   "source": [
    "test_res"
   ]
  },
  {
   "cell_type": "code",
   "execution_count": 61,
   "metadata": {},
   "outputs": [],
   "source": [
    "res1 = db_manager.check_generated_query(\"test_001\", \"test_1102\")"
   ]
  },
  {
   "cell_type": "code",
   "execution_count": 82,
   "metadata": {},
   "outputs": [
    {
     "data": {
      "text/plain": [
       "{'attr_count_mismatch': 0,\n",
       " 'rows_count_mismatch': -53960,\n",
       " 'cols_hashes_mismatch': ['25265c47e5182330fe2e74235c5a1e75',\n",
       "  '38654549aaf1f3e0eb259e9cc3902cfd',\n",
       "  '098c1ebc8d18a24e4958e06122877b86']}"
      ]
     },
     "execution_count": 82,
     "metadata": {},
     "output_type": "execute_result"
    }
   ],
   "source": [
    "res1"
   ]
  },
  {
   "cell_type": "code",
   "execution_count": 12,
   "metadata": {},
   "outputs": [],
   "source": [
    "context_manager = DefaultContextManager(\"./contexts\")"
   ]
  },
  {
   "cell_type": "code",
   "execution_count": 13,
   "metadata": {},
   "outputs": [],
   "source": [
    "models = [(\"llama-3.3-70b-versatile\",\"llama-3-3-70b\")]\n"
   ]
  },
  {
   "cell_type": "code",
   "execution_count": 14,
   "metadata": {},
   "outputs": [],
   "source": [
    "Llama33 = GroqLLMProvider(context_manager, client)"
   ]
  },
  {
   "cell_type": "code",
   "execution_count": 15,
   "metadata": {},
   "outputs": [],
   "source": [
    "Llama33.set_model(models[0][0], models[0][1])\n"
   ]
  },
  {
   "cell_type": "code",
   "execution_count": null,
   "metadata": {},
   "outputs": [],
   "source": [
    "test_res = f.compute_accuracy(Llama33)"
   ]
  },
  {
   "cell_type": "code",
   "execution_count": 67,
   "metadata": {},
   "outputs": [
    {
     "data": {
      "text/plain": [
       "{'test_1': {'status': 'failed', 'reason': 'attribute count mismatch'},\n",
       " 'test_2': {'status': 'failed', 'reason': 'attribute count mismatch'},\n",
       " 'test_3': {'status': 'failed', 'reason': 'attribute count mismatch'},\n",
       " 'test_4': {'status': 'failed', 'reason': 'attribute count mismatch'},\n",
       " 'test_5': {'status': 'failed', 'reason': 'attribute count mismatch'},\n",
       " 'test_6': {'status': 'failed', 'reason': 'attribute count mismatch'},\n",
       " 'test_7': {'status': 'failed',\n",
       "  'reason': 'attribute count mismatch;execution results differs'},\n",
       " 'test_8': {'status': 'failed',\n",
       "  'reason': 'attribute count mismatch;execution results differs'},\n",
       " 'test_9': {'status': 'failed', 'reason': 'attribute count mismatch'},\n",
       " 'test_10': {'status': 'failed', 'reason': 'attribute count mismatch'},\n",
       " 'test_11': {'status': 'failed', 'reason': 'attribute count mismatch'},\n",
       " 'test_12': {'status': 'failed', 'reason': 'attribute count mismatch'},\n",
       " 'test_13': {'status': 'failed', 'reason': 'attribute count mismatch'},\n",
       " 'test_14': {'status': 'failed', 'reason': 'attribute count mismatch'},\n",
       " 'test_15': {'status': 'failed', 'reason': 'attribute count mismatch'},\n",
       " 'test_16': {'status': 'failed', 'reason': 'attribute count mismatch'},\n",
       " 'test_17': {'status': 'failed', 'reason': 'attribute count mismatch'},\n",
       " 'test_18': {'status': 'failed', 'reason': 'attribute count mismatch'},\n",
       " 'test_19': {'status': 'failed',\n",
       "  'reason': 'attribute count mismatch;rows count mismatch;execution results differs'},\n",
       " 'test_20': {'status': 'failed', 'reason': 'attribute count mismatch'},\n",
       " 'test_21': {'status': 'failed', 'reason': 'attribute count mismatch'},\n",
       " 'test_22': {'status': 'failed', 'reason': 'attribute count mismatch'},\n",
       " 'test_23': {'status': 'failed', 'reason': 'attribute count mismatch'},\n",
       " 'test_24': {'status': 'failed', 'reason': 'attribute count mismatch'},\n",
       " 'test_25': {'status': 'failed', 'reason': 'attribute count mismatch'},\n",
       " 'test_26': {'status': 'failed', 'reason': 'attribute count mismatch'},\n",
       " 'test_27': {'status': 'failed', 'reason': 'attribute count mismatch'},\n",
       " 'test_28': {'status': 'failed',\n",
       "  'reason': 'attribute count mismatch;rows count mismatch;execution results differs'},\n",
       " 'test_29': {'status': 'failed',\n",
       "  'reason': 'attribute count mismatch;rows count mismatch;execution results differs'},\n",
       " 'test_30': {'status': 'failed', 'reason': 'attribute count mismatch'},\n",
       " 'test_31': {'status': 'failed',\n",
       "  'reason': 'attribute count mismatch;execution results differs'},\n",
       " 'test_32': {'status': 'failed', 'reason': 'attribute count mismatch'},\n",
       " 'test_33': {'status': 'failed',\n",
       "  'reason': 'attribute count mismatch;rows count mismatch;execution results differs'},\n",
       " 'test_34': {'status': 'failed', 'reason': 'attribute count mismatch'},\n",
       " 'test_35': {'status': 'failed', 'reason': 'attribute count mismatch'},\n",
       " 'test_36': {'status': 'failed', 'reason': 'attribute count mismatch'},\n",
       " 'test_37': {'status': 'failed', 'reason': 'attribute count mismatch'},\n",
       " 'test_38': {'status': 'failed',\n",
       "  'reason': 'attribute count mismatch;execution results differs'},\n",
       " 'test_39': {'status': 'failed',\n",
       "  'reason': 'attribute count mismatch;execution results differs'},\n",
       " 'test_40': {'status': 'failed',\n",
       "  'reason': 'attribute count mismatch;execution results differs'},\n",
       " 'test_41': {'status': 'failed',\n",
       "  'reason': 'attribute count mismatch;execution results differs'},\n",
       " 'test_42': {'status': 'failed', 'reason': 'query not executable'},\n",
       " 'test_43': {'status': 'failed', 'reason': 'query not executable'},\n",
       " 'test_44': {'status': 'failed', 'reason': 'query not executable'},\n",
       " 'test_45': {'status': 'failed', 'reason': 'attribute count mismatch'},\n",
       " 'test_46': {'status': 'failed', 'reason': 'query not executable'},\n",
       " 'test_47': {'status': 'failed', 'reason': 'attribute count mismatch'},\n",
       " 'test_48': {'status': 'failed', 'reason': 'query not executable'},\n",
       " 'test_49': {'status': 'failed', 'reason': 'attribute count mismatch'},\n",
       " 'test_50': {'status': 'failed',\n",
       "  'reason': 'attribute count mismatch;rows count mismatch;execution results differs'}}"
      ]
     },
     "execution_count": 67,
     "metadata": {},
     "output_type": "execute_result"
    }
   ],
   "source": [
    "test_res"
   ]
  },
  {
   "cell_type": "code",
   "execution_count": 16,
   "metadata": {},
   "outputs": [],
   "source": [
    "test_res_recomputed = f.recompute_accuracy('./test_data/llama-3-3-70b.yaml', 'llama-3-3-70b')"
   ]
  },
  {
   "cell_type": "code",
   "execution_count": 17,
   "metadata": {},
   "outputs": [],
   "source": [
    "test_res_recomputed\n",
    "save_dict_as_file('./results/llama3-3-70b', test_res_recomputed)"
   ]
  },
  {
   "cell_type": "code",
   "execution_count": null,
   "metadata": {},
   "outputs": [],
   "source": []
  }
 ],
 "metadata": {
  "kernelspec": {
   "display_name": "venv",
   "language": "python",
   "name": "python3"
  },
  "language_info": {
   "codemirror_mode": {
    "name": "ipython",
    "version": 3
   },
   "file_extension": ".py",
   "mimetype": "text/x-python",
   "name": "python",
   "nbconvert_exporter": "python",
   "pygments_lexer": "ipython3",
   "version": "3.11.0"
  }
 },
 "nbformat": 4,
 "nbformat_minor": 2
}
